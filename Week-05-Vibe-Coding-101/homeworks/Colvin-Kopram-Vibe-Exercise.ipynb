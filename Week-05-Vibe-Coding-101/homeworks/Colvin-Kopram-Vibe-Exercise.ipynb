{
 "cells": [
  {
   "cell_type": "markdown",
   "metadata": {},
   "source": [
    "# Vibe Coding: Real-World Data Cleaning Challenge\n",
    "\n",
    "## The Mission\n",
    "\n",
    "You're a Data Analyst at **TechSalary Insights**. Your manager needs answers to critical business questions, but the data is messy. Your job is to clean it and provide accurate insights.\n",
    "\n",
    "**The catch:** You must figure out how to clean the data yourself. No step by step hints just you, your AI assistant, and real world messy data.\n",
    "\n",
    "---\n",
    "\n",
    "## The Dataset: Ask A Manager Salary Survey 2021\n",
    "\n",
    "**Location:** `../Week-02-Pandas-Part-2-and-DS-Overview/data/Ask A Manager Salary Survey 2021 (Responses) - Form Responses 1.tsv`\n",
    "\n",
    "This is **real survey data** from Ask A Manager's 2021 salary survey with over 28,000 responses from working professionals. The data comes from this survey: https://www.askamanager.org/2021/04/how-much-money-do-you-make-4.html\n",
    "\n",
    "**Why this dataset is perfect for vibe coding:**\n",
    "- Real human responses (inconsistent formatting)\n",
    "- Multiple currencies and formats  \n",
    "- Messy job titles and location data\n",
    "- Missing and invalid entries\n",
    "- Requires business judgment calls\n",
    "\n",
    "---\n",
    "\n",
    "## Your Business Questions\n",
    "\n",
    "Answer these **exact questions** with clean data. There's only one correct answer for each:\n",
    "\n",
    "### Core Questions (Required):\n",
    "1. **What is the median salary for Software Engineers in the United States?** \n",
    "2. **Which US state has the highest average salary for tech workers?**\n",
    "3. **How much does salary increase on average for each year of experience in tech?**\n",
    "4. **Which industry (besides tech) has the highest median salary?**\n",
    "\n",
    "### Bonus Questions (If time permits):\n",
    "5. **What's the salary gap between men and women in tech roles?**\n",
    "6. **Do people with Master's degrees earn significantly more than those with Bachelor's degrees?**\n",
    "\n",
    "**Success Criteria:** Your final answers will be compared against the \"official\" results. Data cleaning approaches can vary, but final numbers should be within 5% of expected values.\n"
   ]
  },
  {
   "cell_type": "markdown",
   "metadata": {},
   "source": [
    "---\n",
    "# Your Work Starts Here\n",
    "\n",
    "## Step 0: Create Your Plan\n",
    "**Before writing any code, use Cursor to create your todo plan. Then paste it here:**\n",
    "\n",
    "## My Data Cleaning Plan\n",
    "\n",
    "*(Paste your Cursor todo list here)*\n",
    "\n",
    "- [ ] Example todo item\n",
    "- [ ] Another example\n",
    "- [ ] ...\n"
   ]
  },
  {
   "cell_type": "code",
   "execution_count": 12,
   "metadata": {},
   "outputs": [
    {
     "ename": "SyntaxError",
     "evalue": "invalid syntax (2190916237.py, line 1)",
     "output_type": "error",
     "traceback": [
      "  \u001b[36mCell\u001b[39m\u001b[36m \u001b[39m\u001b[32mIn[12]\u001b[39m\u001b[32m, line 1\u001b[39m\n\u001b[31m    \u001b[39m\u001b[31mLoad and explore the salary survey dataset to understand structure and data quality issues\u001b[39m\n                     ^\n\u001b[31mSyntaxError\u001b[39m\u001b[31m:\u001b[39m invalid syntax\n"
     ]
    }
   ],
   "source": [
    "Load and explore the salary survey dataset to understand structure and data quality issues\n",
    "Clean salary data - handle different currencies, remove non-numeric values, standardize format\n",
    "Clean location data - standardize country/state formats, handle variations in US entries\n",
    "Clean and categorize job titles - identify software engineers and tech workers\n",
    "Clean demographic data - standardize gender, education, experience fields\n",
    "Handle missing values and outliers appropriately for each field"
   ]
  },
  {
   "cell_type": "markdown",
   "metadata": {},
   "source": [
    "## Step 1: Data Loading and Exploration\n",
    "\n",
    "Start here! Load the dataset and get familiar with what you're working with.\n"
   ]
  },
  {
   "cell_type": "code",
   "execution_count": 13,
   "metadata": {},
   "outputs": [
    {
     "name": "stdout",
     "output_type": "stream",
     "text": [
      "Data Types:\n",
      "Timestamp                                                                                                                                                                                                                                object\n",
      "How old are you?                                                                                                                                                                                                                         object\n",
      "What industry do you work in?                                                                                                                                                                                                            object\n",
      "Job title                                                                                                                                                                                                                                object\n",
      "If your job title needs additional context, please clarify here:                                                                                                                                                                         object\n",
      "What is your annual salary? (You'll indicate the currency in a later question. If you are part-time or hourly, please enter an annualized equivalent -- what you would earn if you worked the job 40 hours a week, 52 weeks a year.)     object\n",
      "How much additional monetary compensation do you get, if any (for example, bonuses or overtime in an average year)? Please only include monetary compensation here, not the value of benefits.                                          float64\n",
      "Please indicate the currency                                                                                                                                                                                                             object\n",
      "If \"Other,\" please indicate the currency here:                                                                                                                                                                                           object\n",
      "If your income needs additional context, please provide it here:                                                                                                                                                                         object\n",
      "What country do you work in?                                                                                                                                                                                                             object\n",
      "If you're in the U.S., what state do you work in?                                                                                                                                                                                        object\n",
      "What city do you work in?                                                                                                                                                                                                                object\n",
      "How many years of professional work experience do you have overall?                                                                                                                                                                      object\n",
      "How many years of professional work experience do you have in your field?                                                                                                                                                                object\n",
      "What is your highest level of education completed?                                                                                                                                                                                       object\n",
      "What is your gender?                                                                                                                                                                                                                     object\n",
      "What is your race? (Choose all that apply.)                                                                                                                                                                                              object\n",
      "dtype: object\n",
      "\n",
      "Missing Values Per Column:\n",
      "Timestamp                                                                                                                                                                                                                                   0\n",
      "How old are you?                                                                                                                                                                                                                            0\n",
      "What industry do you work in?                                                                                                                                                                                                              74\n",
      "Job title                                                                                                                                                                                                                                   1\n",
      "If your job title needs additional context, please clarify here:                                                                                                                                                                        20800\n",
      "What is your annual salary? (You'll indicate the currency in a later question. If you are part-time or hourly, please enter an annualized equivalent -- what you would earn if you worked the job 40 hours a week, 52 weeks a year.)        0\n",
      "How much additional monetary compensation do you get, if any (for example, bonuses or overtime in an average year)? Please only include monetary compensation here, not the value of benefits.                                           7296\n",
      "Please indicate the currency                                                                                                                                                                                                                0\n",
      "If \"Other,\" please indicate the currency here:                                                                                                                                                                                          27856\n",
      "If your income needs additional context, please provide it here:                                                                                                                                                                        25020\n",
      "What country do you work in?                                                                                                                                                                                                                0\n",
      "If you're in the U.S., what state do you work in?                                                                                                                                                                                        5023\n",
      "What city do you work in?                                                                                                                                                                                                                  82\n",
      "How many years of professional work experience do you have overall?                                                                                                                                                                         0\n",
      "How many years of professional work experience do you have in your field?                                                                                                                                                                   0\n",
      "What is your highest level of education completed?                                                                                                                                                                                        222\n",
      "What is your gender?                                                                                                                                                                                                                      171\n",
      "What is your race? (Choose all that apply.)                                                                                                                                                                                               177\n",
      "dtype: int64\n",
      "\n",
      "Dataset info:\n",
      "<class 'pandas.core.frame.DataFrame'>\n",
      "RangeIndex: 28062 entries, 0 to 28061\n",
      "Data columns (total 18 columns):\n",
      " #   Column                                                                                                                                                                                                                                Non-Null Count  Dtype  \n",
      "---  ------                                                                                                                                                                                                                                --------------  -----  \n",
      " 0   Timestamp                                                                                                                                                                                                                             28062 non-null  object \n",
      " 1   How old are you?                                                                                                                                                                                                                      28062 non-null  object \n",
      " 2   What industry do you work in?                                                                                                                                                                                                         27988 non-null  object \n",
      " 3   Job title                                                                                                                                                                                                                             28061 non-null  object \n",
      " 4   If your job title needs additional context, please clarify here:                                                                                                                                                                      7262 non-null   object \n",
      " 5   What is your annual salary? (You'll indicate the currency in a later question. If you are part-time or hourly, please enter an annualized equivalent -- what you would earn if you worked the job 40 hours a week, 52 weeks a year.)  28062 non-null  object \n",
      " 6   How much additional monetary compensation do you get, if any (for example, bonuses or overtime in an average year)? Please only include monetary compensation here, not the value of benefits.                                        20766 non-null  float64\n",
      " 7   Please indicate the currency                                                                                                                                                                                                          28062 non-null  object \n",
      " 8   If \"Other,\" please indicate the currency here:                                                                                                                                                                                        206 non-null    object \n",
      " 9   If your income needs additional context, please provide it here:                                                                                                                                                                      3042 non-null   object \n",
      " 10  What country do you work in?                                                                                                                                                                                                          28062 non-null  object \n",
      " 11  If you're in the U.S., what state do you work in?                                                                                                                                                                                     23039 non-null  object \n",
      " 12  What city do you work in?                                                                                                                                                                                                             27980 non-null  object \n",
      " 13  How many years of professional work experience do you have overall?                                                                                                                                                                   28062 non-null  object \n",
      " 14  How many years of professional work experience do you have in your field?                                                                                                                                                             28062 non-null  object \n",
      " 15  What is your highest level of education completed?                                                                                                                                                                                    27840 non-null  object \n",
      " 16  What is your gender?                                                                                                                                                                                                                  27891 non-null  object \n",
      " 17  What is your race? (Choose all that apply.)                                                                                                                                                                                           27885 non-null  object \n",
      "dtypes: float64(1), object(17)\n",
      "memory usage: 3.9+ MB\n"
     ]
    }
   ],
   "source": [
    "# Import necessary libraries\n",
    "import pandas as pd\n",
    "import numpy as np\n",
    "import matplotlib.pyplot as plt\n",
    "import seaborn as sns\n",
    "\n",
    "df = pd.read_csv(\"/workspaces/ds-fall-2025-tue/Week-02-Pandas-Part-2-and-DS-Overview/data/Ask A Manager Salary Survey 2021 (Responses) - Form Responses 1.tsv\",delimiter='\\t')\n",
    "\n",
    "print(\"Data Types:\")\n",
    "print(df.dtypes)\n",
    "\n",
    "print(\"\\nMissing Values Per Column:\")\n",
    "print(df.isnull().sum())\n",
    "\n",
    "print(\"\\nDataset info:\")\n",
    "df.info()\n",
    "\n",
    "\n",
    "\n"
   ]
  },
  {
   "cell_type": "code",
   "execution_count": 17,
   "metadata": {},
   "outputs": [
    {
     "name": "stdout",
     "output_type": "stream",
     "text": [
      "=== SALARY COLUMN ANALYSIS ===\n",
      "Unique values in salary column (first 20):\n",
      "What is your annual salary? (You'll indicate the currency in a later question. If you are part-time or hourly, please enter an annualized equivalent -- what you would earn if you worked the job 40 hours a week, 52 weeks a year.)\n",
      "60,000     430\n",
      "80,000     406\n",
      "70,000     402\n",
      "65,000     400\n",
      "75,000     383\n",
      "90,000     368\n",
      "50,000     361\n",
      "100,000    313\n",
      "85,000     306\n",
      "55,000     303\n",
      "120,000    295\n",
      "110,000    263\n",
      "52,000     251\n",
      "45,000     247\n",
      "130,000    245\n",
      "40,000     234\n",
      "72,000     218\n",
      "95,000     213\n",
      "125,000    197\n",
      "105,000    191\n",
      "Name: count, dtype: int64\n",
      "\n",
      "=== CURRENCY COLUMN ANALYSIS ===\n",
      "Unique currencies:\n",
      "Please indicate the currency\n",
      "USD        23374\n",
      "CAD         1673\n",
      "GBP         1591\n",
      "EUR          643\n",
      "AUD/NZD      504\n",
      "Other        160\n",
      "CHF           37\n",
      "SEK           37\n",
      "JPY           23\n",
      "ZAR           16\n",
      "HKD            4\n",
      "Name: count, dtype: int64\n",
      "\n",
      "=== COUNTRY COLUMN ANALYSIS ===\n",
      "Unique countries (first 20):\n",
      "What country do you work in?\n",
      "United States               8992\n",
      "USA                         7934\n",
      "US                          2610\n",
      "Canada                      1570\n",
      "United States                667\n",
      "U.S.                         580\n",
      "UK                           574\n",
      "United Kingdom               547\n",
      "USA                          468\n",
      "Usa                          448\n",
      "United States of America     428\n",
      "Australia                    318\n",
      "United states                208\n",
      "usa                          183\n",
      "Germany                      173\n",
      "England                      134\n",
      "united states                116\n",
      "Us                           105\n",
      "Ireland                      102\n",
      "New Zealand                   95\n",
      "Name: count, dtype: int64\n",
      "\n",
      "=== JOB TITLE ANALYSIS ===\n",
      "Unique job titles containing 'software' or 'engineer':\n",
      "Found 2877 potential software engineering jobs\n",
      "Job title\n",
      "Software Engineer           286\n",
      "Senior Software Engineer    196\n",
      "Software Developer           88\n",
      "Engineering Manager          88\n",
      "Software engineer            52\n",
      "Senior Engineer              38\n",
      "Director of Engineering      37\n",
      "Staff Software Engineer      36\n",
      "Project Engineer             33\n",
      "Software Engineer II         31\n",
      "Name: count, dtype: int64\n"
     ]
    }
   ],
   "source": [
    "print(\"=== SALARY COLUMN ANALYSIS ===\")\n",
    "salary_col = 'What is your annual salary? (You\\'ll indicate the currency in a later question. If you are part-time or hourly, please enter an annualized equivalent -- what you would earn if you worked the job 40 hours a week, 52 weeks a year.)'\n",
    "print(\"Unique values in salary column (first 20):\")\n",
    "print(df[salary_col].value_counts().head(20))\n",
    "\n",
    "print(\"\\n=== CURRENCY COLUMN ANALYSIS ===\")\n",
    "print(\"Unique currencies:\")\n",
    "print(df['Please indicate the currency'].value_counts())\n",
    "\n",
    "print(\"\\n=== COUNTRY COLUMN ANALYSIS ===\")\n",
    "print(\"Unique countries (first 20):\")\n",
    "print(df['What country do you work in?'].value_counts().head(20))\n",
    "\n",
    "print(\"\\n=== JOB TITLE ANALYSIS ===\")\n",
    "print(\"Unique job titles containing 'software' or 'engineer':\")\n",
    "software_jobs = df[df['Job title'].str.contains('software|engineer', case=False, na=False)]\n",
    "print(f\"Found {len(software_jobs)} potential software engineering jobs\")\n",
    "print(software_jobs['Job title'].value_counts().head(10))\n"
   ]
  },
  {
   "cell_type": "markdown",
   "metadata": {},
   "source": [
    "## Step 2: Data Cleaning\n"
   ]
  },
  {
   "cell_type": "code",
   "execution_count": 28,
   "metadata": {},
   "outputs": [
    {
     "name": "stdout",
     "output_type": "stream",
     "text": [
      "Sample salary values:\n",
      "0     55,000\n",
      "1     54,600\n",
      "2     34,000\n",
      "3     62,000\n",
      "4     60,000\n",
      "5     62,000\n",
      "6     33,000\n",
      "7     50,000\n",
      "8    112,000\n",
      "9     45,000\n",
      "Name: What is your annual salary? (You'll indicate the currency in a later question. If you are part-time or hourly, please enter an annualized equivalent -- what you would earn if you worked the job 40 hours a week, 52 weeks a year.), dtype: object\n",
      "\n",
      "Salary data types and null values:\n",
      "object\n",
      "Null values: 0\n",
      "\n",
      "Sample of non-numeric salary entries:\n",
      "Series([], Name: count, dtype: int64)\n"
     ]
    }
   ],
   "source": [
    "# Step 1: Clean Salary Data\n",
    "# First, let's create a copy to work with\n",
    "df_clean = df.copy()\n",
    "\n",
    "# Define the long column names for easier reference\n",
    "salary_col = 'What is your annual salary? (You\\'ll indicate the currency in a later question. If you are part-time or hourly, please enter an annualized equivalent -- what you would earn if you worked the job 40 hours a week, 52 weeks a year.)'\n",
    "currency_col = 'Please indicate the currency'\n",
    "country_col = 'What country do you work in?'\n",
    "state_col = 'If you\\'re in the U.S., what state do you work in?'\n",
    "job_title_col = 'Job title'\n",
    "industry_col = 'What industry do you work in?'\n",
    "\n",
    "# Let's examine the salary data more closely\n",
    "print(\"Sample salary values:\")\n",
    "print(df_clean[salary_col].head(10))\n",
    "print(\"\\nSalary data types and null values:\")\n",
    "print(df_clean[salary_col].dtype)\n",
    "print(\"Null values:\", df_clean[salary_col].isnull().sum())\n",
    "\n",
    "# Let's look at some problematic salary entries\n",
    "print(\"\\nSample of non-numeric salary entries:\")\n",
    "non_numeric_salaries = df_clean[~df_clean[salary_col].astype(str).str.replace(',', '').str.replace('$', '').str.replace('.', '').str.isdigit()]\n",
    "print(non_numeric_salaries[salary_col].value_counts().head(10))\n"
   ]
  },
  {
   "cell_type": "code",
   "execution_count": 29,
   "metadata": {},
   "outputs": [
    {
     "name": "stdout",
     "output_type": "stream",
     "text": [
      "Salary cleaning results:\n",
      "Original salary entries: 28062\n",
      "Successfully cleaned salaries: 28062\n",
      "Failed to clean: 0\n",
      "\n",
      "Salary statistics after cleaning:\n",
      "count    2.806200e+04\n",
      "mean     3.614244e+05\n",
      "std      3.622275e+07\n",
      "min      0.000000e+00\n",
      "25%      5.400000e+04\n",
      "50%      7.500000e+04\n",
      "75%      1.100000e+05\n",
      "max      6.000070e+09\n",
      "Name: salary_cleaned, dtype: float64\n"
     ]
    }
   ],
   "source": [
    "def clean_salary(salary_str):\n",
    "    if pd.isna(salary_str):\n",
    "        return np.nan\n",
    "    \n",
    "    # Convert to string and clean\n",
    "    salary_str = str(salary_str).strip()\n",
    "    \n",
    "    # Remove common non-numeric characters except decimal points\n",
    "    cleaned = salary_str.replace(',', '').replace('$', '').replace('€', '').replace('£', '').replace('¥', '')\n",
    "    \n",
    "    # Handle ranges (take midpoint)\n",
    "    if '-' in cleaned and 'k' not in cleaned.lower():\n",
    "        parts = cleaned.split('-')\n",
    "        if len(parts) == 2:\n",
    "            try:\n",
    "                low = float(parts[0])\n",
    "                high = float(parts[1])\n",
    "                return (low + high) / 2\n",
    "            except:\n",
    "                pass\n",
    "    \n",
    "    # Handle 'k' notation (thousands)\n",
    "    if 'k' in cleaned.lower():\n",
    "        cleaned = cleaned.lower().replace('k', '')\n",
    "        try:\n",
    "            return float(cleaned) * 1000\n",
    "        except:\n",
    "            pass\n",
    "    \n",
    "    # Try to convert to float\n",
    "    try:\n",
    "        return float(cleaned)\n",
    "    except:\n",
    "        return np.nan\n",
    "\n",
    "# Apply salary cleaning\n",
    "df_clean['salary_cleaned'] = df_clean[salary_col].apply(clean_salary)\n",
    "\n",
    "print(\"Salary cleaning results:\")\n",
    "print(f\"Original salary entries: {len(df_clean)}\")\n",
    "print(f\"Successfully cleaned salaries: {df_clean['salary_cleaned'].notna().sum()}\")\n",
    "print(f\"Failed to clean: {df_clean['salary_cleaned'].isna().sum()}\")\n",
    "print(f\"\\nSalary statistics after cleaning:\")\n",
    "print(df_clean['salary_cleaned'].describe())\n"
   ]
  },
  {
   "cell_type": "code",
   "execution_count": 30,
   "metadata": {},
   "outputs": [
    {
     "name": "stdout",
     "output_type": "stream",
     "text": [
      "Currency distribution:\n",
      "Please indicate the currency\n",
      "USD        23374\n",
      "CAD         1673\n",
      "GBP         1591\n",
      "EUR          643\n",
      "AUD/NZD      504\n",
      "Other        160\n",
      "CHF           37\n",
      "SEK           37\n",
      "JPY           23\n",
      "ZAR           16\n",
      "HKD            4\n",
      "Name: count, dtype: int64\n",
      "\n",
      "USD entries: 23374\n",
      "Non-USD entries: 4688\n",
      "\n",
      "Working with 23374 USD salary entries\n",
      "After removing outliers: 23257 entries\n"
     ]
    }
   ],
   "source": [
    "# For now, let's focus on USD salaries only to simplify our analysis\n",
    "print(\"Currency distribution:\")\n",
    "print(df_clean[currency_col].value_counts())\n",
    "\n",
    "# Convert to USD (simplified approach - focusing on USD for now)\n",
    "# In a real scenario, you'd want to use current exchange rates\n",
    "usd_mask = df_clean[currency_col] == 'USD'\n",
    "print(f\"\\nUSD entries: {usd_mask.sum()}\")\n",
    "print(f\"Non-USD entries: {(~usd_mask).sum()}\")\n",
    "\n",
    "# For this exercise, let's focus on USD salaries only\n",
    "df_usd = df_clean[usd_mask].copy()\n",
    "print(f\"\\nWorking with {len(df_usd)} USD salary entries\")\n",
    "\n",
    "# Remove extreme outliers (salaries < 10k or > 1M)\n",
    "df_usd = df_usd[(df_usd['salary_cleaned'] >= 10000) & (df_usd['salary_cleaned'] <= 1000000)]\n",
    "print(f\"After removing outliers: {len(df_usd)} entries\")\n"
   ]
  },
  {
   "cell_type": "code",
   "execution_count": 31,
   "metadata": {},
   "outputs": [
    {
     "name": "stdout",
     "output_type": "stream",
     "text": [
      "Country variations:\n",
      "What country do you work in?\n",
      "United States               8960\n",
      "USA                         7888\n",
      "US                          2595\n",
      "United States                666\n",
      "U.S.                         577\n",
      "USA                          464\n",
      "Usa                          443\n",
      "United States of America     425\n",
      "United states                207\n",
      "usa                          179\n",
      "Name: count, dtype: int64\n",
      "\n",
      "US entries: 22298\n",
      "\n",
      "State variations (first 10):\n",
      "If you're in the U.S., what state do you work in?\n",
      "California              2491\n",
      "New York                2099\n",
      "Massachusetts           1453\n",
      "Texas                   1211\n",
      "Illinois                1166\n",
      "Washington              1149\n",
      "District of Columbia     945\n",
      "Pennsylvania             914\n",
      "Virginia                 756\n",
      "Minnesota                690\n",
      "Name: count, dtype: int64\n"
     ]
    }
   ],
   "source": [
    "print(\"Country variations:\")\n",
    "print(df_usd[country_col].value_counts().head(10))\n",
    "\n",
    "# Standardize US country entries\n",
    "def standardize_country(country):\n",
    "    if pd.isna(country):\n",
    "        return np.nan\n",
    "    \n",
    "    country_lower = str(country).lower().strip()\n",
    "    if any(us_term in country_lower for us_term in ['united states', 'usa', 'us', 'america']):\n",
    "        return 'United States'\n",
    "    return country\n",
    "\n",
    "df_usd['country_cleaned'] = df_usd[country_col].apply(standardize_country)\n",
    "\n",
    "# Filter to US only\n",
    "df_us = df_usd[df_usd['country_cleaned'] == 'United States'].copy()\n",
    "print(f\"\\nUS entries: {len(df_us)}\")\n",
    "\n",
    "# Clean state data\n",
    "print(\"\\nState variations (first 10):\")\n",
    "print(df_us[state_col].value_counts().head(10))\n"
   ]
  },
  {
   "cell_type": "code",
   "execution_count": 32,
   "metadata": {},
   "outputs": [
    {
     "name": "stdout",
     "output_type": "stream",
     "text": [
      "Industry distribution:\n",
      "What industry do you work in?\n",
      "Computing or Tech                            3583\n",
      "Nonprofits                                   2043\n",
      "Education (Higher Education)                 2006\n",
      "Health care                                  1572\n",
      "Accounting, Banking & Finance                1424\n",
      "                                             ... \n",
      "Aerospace/Defense                               1\n",
      "Public Library (technically City Govt.?)        1\n",
      "consumer products                               1\n",
      "Small business/service company                  1\n",
      "Wherever I'm assigned via the union             1\n",
      "Name: count, Length: 996, dtype: int64\n",
      "\n",
      "Software engineers found: 881\n",
      "Tech workers found: 6922\n",
      "\n",
      "Sample software engineer titles:\n",
      "Job title\n",
      "Software Engineer              222\n",
      "Senior Software Engineer       161\n",
      "Software Developer              52\n",
      "Software engineer               36\n",
      "Staff Software Engineer         31\n",
      "Software Engineer II            29\n",
      "Principal Software Engineer     25\n",
      "Senior software engineer        18\n",
      "Senior Software Developer       17\n",
      "Lead Software Engineer          15\n",
      "Name: count, dtype: int64\n"
     ]
    }
   ],
   "source": [
    "print(\"Industry distribution:\")\n",
    "print(df_us[industry_col].value_counts())\n",
    "\n",
    "# Identify software engineers and tech workers\n",
    "def is_software_engineer(job_title):\n",
    "    if pd.isna(job_title):\n",
    "        return False\n",
    "    \n",
    "    job_lower = str(job_title).lower()\n",
    "    software_keywords = ['software engineer', 'software developer', 'software developer engineer', 'sde', 'senior software engineer']\n",
    "    return any(keyword in job_lower for keyword in software_keywords)\n",
    "\n",
    "def is_tech_worker(job_title, industry):\n",
    "    if pd.isna(job_title):\n",
    "        return False\n",
    "    \n",
    "    # Check industry first\n",
    "    if not pd.isna(industry):\n",
    "        industry_lower = str(industry).lower()\n",
    "        if 'tech' in industry_lower or 'computing' in industry_lower:\n",
    "            return True\n",
    "    \n",
    "    # Check job title\n",
    "    job_lower = str(job_title).lower()\n",
    "    tech_keywords = [\n",
    "        'software', 'engineer', 'developer', 'programmer', 'data scientist', \n",
    "        'data analyst', 'data engineer', 'product manager', 'technical',\n",
    "        'devops', 'sre', 'sdet', 'qa engineer', 'systems analyst', 'it'\n",
    "    ]\n",
    "    return any(keyword in job_lower for keyword in tech_keywords)\n",
    "\n",
    "# Apply classifications\n",
    "df_us['is_software_engineer'] = df_us[job_title_col].apply(is_software_engineer)\n",
    "df_us['is_tech_worker'] = df_us.apply(lambda row: is_tech_worker(row[job_title_col], row[industry_col]), axis=1)\n",
    "\n",
    "print(f\"\\nSoftware engineers found: {df_us['is_software_engineer'].sum()}\")\n",
    "print(f\"Tech workers found: {df_us['is_tech_worker'].sum()}\")\n",
    "\n",
    "# Show some examples\n",
    "print(\"\\nSample software engineer titles:\")\n",
    "software_engineers = df_us[df_us['is_software_engineer']]\n",
    "print(software_engineers[job_title_col].value_counts().head(10))\n"
   ]
  },
  {
   "cell_type": "markdown",
   "metadata": {},
   "source": [
    "## Step 3: Business Questions Analysis\n",
    "\n",
    "Now answer those important business questions!\n"
   ]
  },
  {
   "cell_type": "code",
   "execution_count": 33,
   "metadata": {},
   "outputs": [
    {
     "name": "stdout",
     "output_type": "stream",
     "text": [
      "Median salary for Software Engineers in the United States: $141,750\n"
     ]
    }
   ],
   "source": [
    "# Question 1: What is the median salary for Software Engineers in the United States?\n",
    "software_engineers_us = df_us[df_us['is_software_engineer'] & df_us['salary_cleaned'].notna()]\n",
    "print(f\"Median salary for Software Engineers in the United States: ${software_engineers_us['salary_cleaned'].median():,.0f}\")"
   ]
  },
  {
   "cell_type": "code",
   "execution_count": 36,
   "metadata": {},
   "outputs": [
    {
     "name": "stdout",
     "output_type": "stream",
     "text": [
      "\n",
      "California has the highest average salary for tech workers: $140,501\n"
     ]
    }
   ],
   "source": [
    "# Question 2: Which US state has the highest average salary for tech workers?\n",
    "tech_workers_us = df_us[df_us['is_tech_worker'] & df_us['salary_cleaned'].notna() & df_us[state_col].notna()]\n",
    "state_salaries = tech_workers_us.groupby(state_col)['salary_cleaned'].agg(['mean', 'median', 'count']).reset_index()\n",
    "state_salaries = state_salaries[state_salaries['count'] >= 5]  # Only states with at least 5 tech workers\n",
    "state_salaries = state_salaries.sort_values('mean', ascending=False)\n",
    "highest_state = state_salaries.iloc[0]\n",
    "print(f\"\\n{highest_state[state_col]} has the highest average salary for tech workers: ${highest_state['mean']:,.0f}\")\n"
   ]
  },
  {
   "cell_type": "code",
   "execution_count": 40,
   "metadata": {},
   "outputs": [
    {
     "name": "stdout",
     "output_type": "stream",
     "text": [
      "\n",
      "Salary increases by approximately $1,422 per year of experience in tech\n"
     ]
    }
   ],
   "source": [
    "# Question 3: How much does salary increase on average for each year of experience in tech?\n",
    "experience_col = 'How many years of professional work experience do you have overall?'\n",
    "\n",
    "# Clean experience data - convert ranges to midpoints\n",
    "def clean_experience(exp_str):\n",
    "    if pd.isna(exp_str):\n",
    "        return np.nan\n",
    "    \n",
    "    exp_str = str(exp_str).strip()\n",
    "    \n",
    "    # Handle ranges like \"5-7 years\" or \"8 - 10 years\"\n",
    "    if '-' in exp_str:\n",
    "        parts = exp_str.split('-')\n",
    "        if len(parts) == 2:\n",
    "            try:\n",
    "                low = float(parts[0].strip().split()[0])  # Take first number\n",
    "                high = float(parts[1].strip().split()[0])  # Take first number\n",
    "                return (low + high) / 2\n",
    "            except:\n",
    "                pass\n",
    "    \n",
    "    # Handle single numbers\n",
    "    try:\n",
    "        return float(exp_str.split()[0])\n",
    "    except:\n",
    "        return np.nan\n",
    "\n",
    "# Apply experience cleaning\n",
    "df_us['experience_cleaned'] = df_us[experience_col].apply(clean_experience)\n",
    "\n",
    "# Filter to tech workers with both salary and experience data\n",
    "tech_with_exp = df_us[(df_us['is_tech_worker'] & \n",
    "                      df_us['salary_cleaned'].notna() & \n",
    "                      df_us['experience_cleaned'].notna())]\n",
    "\n",
    "\n",
    "# Calculate correlation and regression\n",
    "from scipy import stats\n",
    "\n",
    "# Simple linear regression: salary vs experience\n",
    "slope, intercept, r_value, p_value, std_err = stats.linregress(\n",
    "    tech_with_exp['experience_cleaned'], \n",
    "    tech_with_exp['salary_cleaned']\n",
    ")\n",
    "print(f\"\\nSalary increases by approximately ${slope:,.0f} per year of experience in tech\")\n",
    "\n"
   ]
  },
  {
   "cell_type": "code",
   "execution_count": null,
   "metadata": {},
   "outputs": [
    {
     "name": "stdout",
     "output_type": "stream",
     "text": [
      "Number of non-tech workers with salary and industry data: 15332\n",
      "\n",
      "Top 10 industries by median salary (non-tech):\n",
      "      What industry do you work in?    median  count\n",
      "493                          Pharma  127500.0     14\n",
      "510                 Pharmaceuticals  120000.0     15\n",
      "498                  Pharmaceutical  100000.0     13\n",
      "379                             Law   96000.0    871\n",
      "105          Business or Consulting   93600.0    612\n",
      "725  Utilities & Telecommunications   83385.0    205\n",
      "219    Engineering or Manufacturing   81473.0    591\n",
      "15    Accounting, Banking & Finance   80000.0   1237\n",
      "430     Marketing, Advertising & PR   80000.0    708\n",
      "431                 Media & Digital   80000.0    305\n",
      "\n",
      "ANSWER: Pharma has the highest median salary among non-tech industries: $127,500\n",
      "Based on 14 workers in that industry\n"
     ]
    }
   ],
   "source": [
    "# Question 4: What percentage of respondents work remotely vs. in-office?\n"
   ]
  },
  {
   "cell_type": "code",
   "execution_count": null,
   "metadata": {},
   "outputs": [
    {
     "name": "stdout",
     "output_type": "stream",
     "text": [
      "\n",
      "Pharma has the highest median salary among non-tech industries: $127,500\n"
     ]
    }
   ],
   "source": [
    "# Question 5: Which industry (besides tech) has the highest median salary?\n",
    "non_tech_workers = df_us[(~df_us['is_tech_worker']) & df_us['salary_cleaned'].notna() & df_us[industry_col].notna()]\n",
    "\n",
    "# Calculate median salary by industry for non-tech workers\n",
    "industry_salaries = non_tech_workers.groupby(industry_col)['salary_cleaned'].agg(['median', 'mean', 'count']).reset_index()\n",
    "industry_salaries = industry_salaries[industry_salaries['count'] >= 10]  # Only industries with at least 10 workers\n",
    "industry_salaries = industry_salaries.sort_values('median', ascending=False)\n",
    "\n",
    "highest_industry = industry_salaries.iloc[0]\n",
    "print(f\"\\n{highest_industry[industry_col]} has the highest median salary among non-tech industries: ${highest_industry['median']:,.0f}\")"
   ]
  },
  {
   "cell_type": "code",
   "execution_count": 6,
   "metadata": {},
   "outputs": [],
   "source": [
    "# Bonus Questions:\n",
    "# Question 6: What's the salary gap between men and women in similar roles?\n",
    "# Question 7: Do people with Master's degrees earn significantly more than those with Bachelor's degrees?\n",
    "# Question 8: Which company size (startup, medium, large) pays the most on average?"
   ]
  },
  {
   "cell_type": "markdown",
   "metadata": {},
   "source": [
    "## Final Summary\n",
    "\n",
    "**Summarize your findings here:**\n",
    "\n",
    "1. **Median salary for Software Engineers in US:** $X\n",
    "2. **Highest paying US state for tech:** State Name\n",
    "3. **Salary increase per year of experience:** $X per year\n",
    "4. **Remote vs office percentage:** X% remote, Y% office\n",
    "5. **Highest paying non-tech industry:** Industry Name\n",
    "\n",
    "**Key insights:**\n",
    "- Insight 1\n",
    "- Insight 2\n",
    "- Insight 3\n",
    "\n",
    "**Challenges faced:**\n",
    "- Challenge 1 and how you solved it\n",
    "- Challenge 2 and how you solved it\n",
    "\n",
    "**What you learned about vibe coding:**\n",
    "- Learning 1\n",
    "- Learning 2\n",
    "- Learning 3\n"
   ]
  },
  {
   "cell_type": "markdown",
   "metadata": {},
   "source": [
    "Learning \n",
    "    The agent produces a lot of work but its not all neccesary \n",
    "    You should try and be really specific for your prompts\n",
    "    Its still necessary to know whats going on in the code"
   ]
  },
  {
   "cell_type": "markdown",
   "metadata": {},
   "source": [
    "Challenges\n",
    "    The agent not doing exactly what I asked it too (I was being too vague)\n",
    "    The agent wrote so much that I got lost and had to read all of it throughly "
   ]
  },
  {
   "cell_type": "markdown",
   "metadata": {},
   "source": [
    "Key insights \n",
    "    Data is really messy\n",
    "    Geographic location for jobs is importantant \n",
    "    Job titles are very unique "
   ]
  },
  {
   "cell_type": "code",
   "execution_count": 56,
   "metadata": {},
   "outputs": [
    {
     "name": "stdout",
     "output_type": "stream",
     "text": [
      "Median salary for Software Engineers in the US: $141,750\n",
      "Highest paying US state for tech: California \n",
      "Salary increase per year of experience: $1,422\n",
      "Highest paying non-tech industry: Pharma\n"
     ]
    }
   ],
   "source": [
    "print(f\"Median salary for Software Engineers in the US: ${software_engineers_us['salary_cleaned'].median():,.0f}\")\n",
    "print(f\"Highest paying US state for tech: {highest_state[state_col]} \")\n",
    "print(f\"Salary increase per year of experience: ${slope:,.0f}\")\n",
    "print(f\"Highest paying non-tech industry: {highest_industry[industry_col]}\")\n"
   ]
  }
 ],
 "metadata": {
  "kernelspec": {
   "display_name": "Python 3",
   "language": "python",
   "name": "python3"
  },
  "language_info": {
   "codemirror_mode": {
    "name": "ipython",
    "version": 3
   },
   "file_extension": ".py",
   "mimetype": "text/x-python",
   "name": "python",
   "nbconvert_exporter": "python",
   "pygments_lexer": "ipython3",
   "version": "3.12.1"
  }
 },
 "nbformat": 4,
 "nbformat_minor": 2
}
