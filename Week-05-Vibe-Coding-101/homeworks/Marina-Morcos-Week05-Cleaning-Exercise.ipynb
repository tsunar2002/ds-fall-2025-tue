{
 "cells": [
  {
   "cell_type": "markdown",
   "metadata": {},
   "source": [
    "# Vibe Coding: Real-World Data Cleaning Challenge\n",
    "\n",
    "## The Mission\n",
    "\n",
    "You're a Data Analyst at **TechSalary Insights**. Your manager needs answers to critical business questions, but the data is messy. Your job is to clean it and provide accurate insights.\n",
    "\n",
    "**The catch:** You must figure out how to clean the data yourself. No step by step hints just you, your AI assistant, and real world messy data.\n",
    "\n",
    "---\n",
    "\n",
    "## The Dataset: Ask A Manager Salary Survey 2021\n",
    "\n",
    "**Location:** `../Week-02-Pandas-Part-2-and-DS-Overview/data/Ask A Manager Salary Survey 2021 (Responses) - Form Responses 1.tsv`\n",
    "\n",
    "This is **real survey data** from Ask A Manager's 2021 salary survey with over 28,000 responses from working professionals. The data comes from this survey: https://www.askamanager.org/2021/04/how-much-money-do-you-make-4.html\n",
    "\n",
    "**Why this dataset is perfect for vibe coding:**\n",
    "- Real human responses (inconsistent formatting)\n",
    "- Multiple currencies and formats  \n",
    "- Messy job titles and location data\n",
    "- Missing and invalid entries\n",
    "- Requires business judgment calls\n",
    "\n",
    "---\n",
    "\n",
    "## Your Business Questions\n",
    "\n",
    "Answer these **exact questions** with clean data. There's only one correct answer for each:\n",
    "\n",
    "### Core Questions (Required):\n",
    "1. **What is the median salary for Software Engineers in the United States?** \n",
    "2. **Which US state has the highest average salary for tech workers?**\n",
    "3. **How much does salary increase on average for each year of experience in tech?**\n",
    "4. **Which industry (besides tech) has the highest median salary?**\n",
    "\n",
    "### Bonus Questions (If time permits):\n",
    "5. **What's the salary gap between men and women in tech roles?**\n",
    "6. **Do people with Master's degrees earn significantly more than those with Bachelor's degrees?**\n",
    "\n",
    "**Success Criteria:** Your final answers will be compared against the \"official\" results. Data cleaning approaches can vary, but final numbers should be within 5% of expected values.\n"
   ]
  },
  {
   "cell_type": "markdown",
   "metadata": {},
   "source": [
    "---\n",
    "# Your Work Starts Here\n",
    "\n",
    "## Step 0: Create Your Plan\n",
    "**Before writing any code, use Cursor to create your todo plan. Then paste it here:**\n",
    "\n",
    "## My Data Cleaning Plan\n",
    "\n",
    "*Acquire the survey CSV and skim columns; draft a brief data dictionary.\n",
    "\n",
    "Load the CSV robustly; infer data types; quantify missingness and duplicates.\n",
    "\n",
    "Normalize compensation to annual USD (base; base+bonus as variant).\n",
    "\n",
    "Set sanity bounds and outlier rules; winsorize or exclude extremes.\n",
    "\n",
    "Standardize job titles; map synonyms; tag the Software Engineer cohort.\n",
    "\n",
    "Define the “tech worker” cohort with explicit inclusion/exclusion rules.\n",
    "\n",
    "Clean and consolidate industry labels into canonical categories.\n",
    "\n",
    "Normalize US locations; map to state codes; filter to US respondents.\n",
    "\n",
    "Parse years-of-experience fields; convert to numeric; handle ranges/bins.\n",
    "\n",
    "Build analysis-ready tables per question with consistent filters/features.\n",
    "\n",
    "Q1: Compute median salary for US Software Engineers; report N and CI.\n",
    "\n",
    "Q2: Compute mean salary by state for tech workers; apply min-N threshold; identify top state.\n",
    "\n",
    "Q3: Estimate salary increase per year of experience (OLS and robust median-slope); check nonlinearity.\n",
    "\n",
    "Q4: Compute median salary by industry excluding tech; apply min-N; identify highest.\n",
    "\n",
    "Run sensitivity checks (base vs total comp; with/without outliers; alt cohort rules).\n",
    "\n",
    "Produce clear tables/plots; export artifacts; note caveats and assumptions.\n",
    "\n",
    "Package in a reproducible notebook/script; save versioned outputs.\n",
    "\n",
    "Covered ingestion, cleaning, cohort definitions, per-question computations, QA/sensitivity, and deliverables.\n"
   ]
  },
  {
   "cell_type": "markdown",
   "metadata": {},
   "source": [
    "## Step 1: Data Loading and Exploration\n",
    "\n",
    "Start here! Load the dataset and get familiar with what you're working with.\n"
   ]
  },
  {
   "cell_type": "code",
   "execution_count": null,
   "metadata": {},
   "outputs": [
    {
     "name": "stdout",
     "output_type": "stream",
     "text": [
      "/Users/tableleaf/Documents/GitHub/ds-fall-2025-fri-1230/Week-05-Vibe-Coding-101/homeworks\n"
     ]
    }
   ],
   "source": [
    "# Import necessary libraries\n",
    "import pandas as pd\n",
    "import numpy as np\n",
    "import matplotlib.pyplot as plt\n",
    "import seaborn as sns\n"
   ]
  },
  {
   "cell_type": "markdown",
   "metadata": {},
   "source": [
    "## Step 2: Data Cleaning\n"
   ]
  },
  {
   "cell_type": "code",
   "execution_count": null,
   "metadata": {},
   "outputs": [
    {
     "name": "stdout",
     "output_type": "stream",
     "text": [
      "140,000\n"
     ]
    }
   ],
   "source": [
    "import csv, re, statistics\n",
    "from pathlib import Path\n",
    "\n",
    "# Provide the exact filename once; code will find it anywhere in the repo if needed\n",
    "FILENAME = \"Ask A Manager Salary Survey 2021 (Responses) - Form Responses 1.tsv\"\n",
    "\n",
    "# Put your absolute path here if known; otherwise leave as None\n",
    "USER_ABS_PATH = \"/Users/tableleaf/Documents/GitHub/ds-fall-2025-fri-1230/Week-02-Pandas-Part-2-and-DS-Overview/data/Ask A Manager Salary Survey 2021 (Responses) - Form Responses 1.tsv\"\n",
    "\n",
    "# Common relative fallback within repo\n",
    "RELATIVE_PATH = \"Week-02-Pandas-Part-2-and-DS-Overview/data/Ask A Manager Salary Survey 2021 (Responses) - Form Responses 1.tsv\"\n",
    "\n",
    "def locate_tsv() -> str:\n",
    "    candidates = []\n",
    "    # 1) User absolute path\n",
    "    if USER_ABS_PATH:\n",
    "        p = Path(USER_ABS_PATH).expanduser()\n",
    "        if p.is_file():\n",
    "            return str(p)\n",
    "        candidates.append(USER_ABS_PATH)\n",
    "    # 2) Relative known path\n",
    "    p = Path(RELATIVE_PATH)\n",
    "    if p.is_file():\n",
    "        return str(p)\n",
    "    candidates.append(RELATIVE_PATH)\n",
    "    # 3) Recursive search by filename\n",
    "    for hit in Path(\".\").rglob(FILENAME):\n",
    "        if hit.is_file():\n",
    "            return str(hit.resolve())\n",
    "    raise FileNotFoundError(\n",
    "        f\"Could not locate TSV. Tried: {candidates} and recursive search for {FILENAME}.\"\n",
    "    )\n",
    "\n",
    "COL_SALARY = \"What is your annual salary? (You'll indicate the currency in a later question. If you are part-time or hourly, please enter an annualized equivalent -- what you would earn if you worked the job 40 hours a week, 52 weeks a year.)\"\n",
    "COL_BONUS = \"How much additional monetary compensation do you get, if any (for example, bonuses or overtime in an average year)? Please only include monetary compensation here, not the value of benefits.\"\n",
    "COL_CURR = \"Please indicate the currency\"\n",
    "COL_COUNTRY = \"What country do you work in?\"\n",
    "COL_STATE = \"If you're in the U.S., what state do you work in?\"\n",
    "COL_INDUSTRY = \"What industry do you work in?\"\n",
    "COL_TITLE = \"Job title\"\n",
    "COL_YOE_FIELD = \"How many years of professional work experience do you have in your field?\"\n",
    "\n",
    "US_NAMES = {s.lower() for s in [\"united states\",\"united states of america\",\"usa\",\"us\",\"u.s.\",\"u.s.a.\",\"america\"]}\n",
    "\n",
    "STATE_NAME_TO_CODE = {\n",
    "    'alabama':'AL','alaska':'AK','arizona':'AZ','arkansas':'AR','california':'CA','colorado':'CO','connecticut':'CT','delaware':'DE','district of columbia':'DC',\n",
    "    'florida':'FL','georgia':'GA','hawaii':'HI','idaho':'ID','illinois':'IL','indiana':'IN','iowa':'IA','kansas':'KS','kentucky':'KY','louisiana':'LA','maine':'ME',\n",
    "    'maryland':'MD','massachusetts':'MA','michigan':'MI','minnesota':'MN','mississippi':'MS','missouri':'MO','montana':'MT','nebraska':'NE','nevada':'NV',\n",
    "    'new hampshire':'NH','new jersey':'NJ','new mexico':'NM','new york':'NY','north carolina':'NC','north dakota':'ND','ohio':'OH','oklahoma':'OK','oregon':'OR',\n",
    "    'pennsylvania':'PA','rhode island':'RI','south carolina':'SC','south dakota':'SD','tennessee':'TN','texas':'TX','utah':'UT','vermont':'VT','virginia':'VA',\n",
    "    'washington':'WA','west virginia':'WV','wisconsin':'WI','wyoming':'WY','puerto rico':'PR'\n",
    "}\n",
    "\n",
    "YOE_MAP = {\n",
    "    \"1 year or less\": 0.5, \"2 - 4 years\": 3.0, \"5-7 years\": 6.0, \"8 - 10 years\": 9.0,\n",
    "    \"11 - 20 years\": 15.5, \"21 - 30 years\": 25.5, \"31 - 40 years\": 35.5, \"41 years or more\": 45.0,\n",
    "}\n",
    "\n",
    "def parse_money(text):\n",
    "    if not text: return None\n",
    "    t = str(text).strip().replace(\",\", \"\")\n",
    "    m = re.findall(r\"[-+]?[0-9]*\\.?[0-9]+\", t)\n",
    "    return float(m[0]) if m else None\n",
    "\n",
    "def is_us(country):\n",
    "    return bool(country) and country.strip().lower() in US_NAMES\n",
    "\n",
    "def normalize_state(state_raw):\n",
    "    if not state_raw: return None\n",
    "    first = state_raw.split(\",\")[0].strip().lower()\n",
    "    if len(first) == 2 and first.isalpha():  # e.g., CA\n",
    "        return first.upper()\n",
    "    return STATE_NAME_TO_CODE.get(first)\n",
    "\n",
    "ENGINEER_OR_DEV = re.compile(r\"\\b(engineer|developer|dev)\\b\", re.I)\n",
    "\n",
    "def title_is_software_engineer(title):\n",
    "    if not title: return False\n",
    "    t = title.strip().lower()\n",
    "    if re.search(r\"\\bsoftware\\s+(engineer|developer)\\b\", t): return True\n",
    "    if re.search(r\"\\b(full\\s*stack|front\\s*end|back\\s*end|android|ios|mobile)\\b\", t) and ENGINEER_OR_DEV.search(t): return True\n",
    "    if re.search(r\"\\b(sde|swe)\\b\", t): return True\n",
    "    if re.search(r\"\\b(staff|senior|principal)\\s+software\\b\", t): return True\n",
    "    return False\n",
    "\n",
    "def is_tech_worker(industry, title):\n",
    "    ind = (industry or \"\").strip().lower()\n",
    "    t = (title or \"\").strip().lower()\n",
    "    if \"computing or tech\" in ind: return True\n",
    "    if re.search(r\"\\b(software|developer|sde|swe|devops|sre|data\\s+(scientist|engineer)|security\\s+engineer|cloud|infrastructure)\\b\", t): return True\n",
    "    if re.search(r\"\\b(front\\s*end|back\\s*end|full\\s*stack)\\b\", t) and ENGINEER_OR_DEV.search(t): return True\n",
    "    return False\n",
    "\n",
    "def load_clean_rows(path=None):\n",
    "    if path is None:\n",
    "        path = locate_tsv()\n",
    "    rows = []\n",
    "    with open(path, newline=\"\", encoding=\"utf-8\") as f:\n",
    "        reader = csv.DictReader(f, delimiter=\"\\t\")\n",
    "        for row in reader:\n",
    "            if row.get(COL_CURR, \"\").strip() != \"USD\": continue\n",
    "            if not is_us(row.get(COL_COUNTRY)): continue\n",
    "            salary = parse_money(row.get(COL_SALARY, \"\"))\n",
    "            if salary is None or not (10000 <= salary <= 1_000_000): continue\n",
    "            bonus = parse_money(row.get(COL_BONUS, \"\")) or 0.0\n",
    "            rows.append({\n",
    "                \"salary\": float(salary),\n",
    "                \"total_comp\": float(salary + bonus),\n",
    "                \"state\": normalize_state(row.get(COL_STATE, \"\")),\n",
    "                \"industry\": row.get(COL_INDUSTRY, \"\"),\n",
    "                \"title\": row.get(COL_TITLE, \"\"),\n",
    "                \"yoe\": YOE_MAP.get(row.get(COL_YOE_FIELD, \"\").strip()),\n",
    "                \"is_se\": title_is_software_engineer(row.get(COL_TITLE, \"\")),\n",
    "                \"is_tech\": is_tech_worker(row.get(COL_INDUSTRY, \"\"), row.get(COL_TITLE, \"\")),\n",
    "            })\n",
    "    return rows\n",
    "\n",
    "def fmt_usd(x): return f\"{int(round(x)):,}\"\n",
    "\n",
    "rows = load_clean_rows()\n"
   ]
  },
  {
   "cell_type": "markdown",
   "metadata": {},
   "source": [
    "## Step 3: Business Questions Analysis\n",
    "\n",
    "Now answer those important business questions!\n"
   ]
  },
  {
   "cell_type": "code",
   "execution_count": 25,
   "metadata": {},
   "outputs": [
    {
     "name": "stdout",
     "output_type": "stream",
     "text": [
      "140,000\n"
     ]
    }
   ],
   "source": [
    "# Question 1: What is the median salary for Software Engineers in the United States?\n",
    "# Q1: median salary for US Software Engineers (base salary)\n",
    "se_salaries = [r[\"salary\"] for r in rows if r[\"is_se\"]]\n",
    "q1_median = statistics.median(se_salaries)\n",
    "print(fmt_usd(q1_median))"
   ]
  },
  {
   "cell_type": "code",
   "execution_count": 31,
   "metadata": {},
   "outputs": [
    {
     "name": "stdout",
     "output_type": "stream",
     "text": [
      "CA 156415 696\n"
     ]
    }
   ],
   "source": [
    "# Question 2: Which US state has the highest average salary for tech workers?\n",
    "from collections import defaultdict\n",
    "import statistics\n",
    "\n",
    "rows = rows  # from previous cell\n",
    "\n",
    "by_state = defaultdict(list)\n",
    "for r in rows:\n",
    "    if r['is_tech'] and r['state']:\n",
    "        by_state[r['state']].append(r['salary'])\n",
    "\n",
    "state_avg = {s: (sum(v)/len(v), len(v)) for s,v in by_state.items() if len(v) >= 30}\n",
    "top_state, (top_avg, n) = max(state_avg.items(), key=lambda kv: kv[1][0])\n",
    "print(top_state, round(top_avg), n)\n",
    "\n"
   ]
  },
  {
   "cell_type": "code",
   "execution_count": 36,
   "metadata": {},
   "outputs": [
    {
     "name": "stdout",
     "output_type": "stream",
     "text": [
      "2359.58\n"
     ]
    }
   ],
   "source": [
    "# Question 3: How much does salary increase on average for each year of experience in tech?\n",
    "xy = [(r['yoe'], r['salary']) for r in rows if r['is_tech'] and r['yoe'] is not None]\n",
    "n = len(xy)\n",
    "sx = sum(x for x,_ in xy); sy = sum(y for _,y in xy)\n",
    "sxx = sum(x*x for x,_ in xy); sxy = sum(x*y for x,y in xy)\n",
    "den = n * sxx - sx * sx\n",
    "slope = (n * sxy - sx * sy) / den\n",
    "print(round(slope, 2))"
   ]
  },
  {
   "cell_type": "code",
   "execution_count": 43,
   "metadata": {},
   "outputs": [
    {
     "name": "stdout",
     "output_type": "stream",
     "text": [
      "{'remote_pct': 1.2, 'hybrid_pct': 0.0, 'in_office_pct': 98.8, 'denominator': 28053}\n"
     ]
    }
   ],
   "source": [
    "\n",
    "# Question 4: What percentage of respondents work remotely vs. in-office?\n",
    "\n",
    "# Heuristic based on the \"What city do you work in?\" field.\n",
    "# Marks rows containing keywords as remote; otherwise in-office; hybrid if the word appears.\n",
    "# Note: The survey lacks a dedicated remote flag, so this undercounts remote.\n",
    "\n",
    "import csv, re\n",
    "from pathlib import Path\n",
    "\n",
    "FILENAME = \"Ask A Manager Salary Survey 2021 (Responses) - Form Responses 1.tsv\"\n",
    "CANDIDATES = [\n",
    "    \"/Users/tableleaf/Documents/GitHub/ds-fall-2025-fri-1230/Week-02-Pandas-Part-2-and-DS-Overview/data/\" + FILENAME,\n",
    "    \"Week-02-Pandas-Part-2-and-DS-Overview/data/\" + FILENAME,\n",
    "]\n",
    "\n",
    "def locate():\n",
    "    for p in CANDIDATES:\n",
    "        if Path(p).is_file():\n",
    "            return p\n",
    "    for hit in Path(\".\").rglob(FILENAME):\n",
    "        if hit.is_file():\n",
    "            return str(hit.resolve())\n",
    "    raise FileNotFoundError(FILENAME)\n",
    "\n",
    "path = locate()\n",
    "city_field = \"What city do you work in?\"\n",
    "remote_rx = re.compile(r\"\\b(remote|wfh|work\\s*from\\s*home|telework|telecommute)\\b\", re.I)\n",
    "hybrid_rx = re.compile(r\"\\bhybrid\\b\", re.I)\n",
    "\n",
    "total = with_city = remote = hybrid = in_office = 0\n",
    "with open(path, newline=\"\", encoding=\"utf-8\") as f:\n",
    "    reader = csv.DictReader(f, delimiter=\"\\t\")\n",
    "    for row in reader:\n",
    "        total += 1\n",
    "        city = (row.get(city_field) or \"\").strip()\n",
    "        if not city:\n",
    "            continue\n",
    "        with_city += 1\n",
    "        lc = city.lower()\n",
    "        if remote_rx.search(lc):\n",
    "            remote += 1\n",
    "        elif hybrid_rx.search(lc):\n",
    "            hybrid += 1\n",
    "        else:\n",
    "            in_office += 1\n",
    "\n",
    "pct = lambda a,b: round(a/b*100, 2) if b else 0.0\n",
    "print({\"remote_pct\": pct(remote, with_city),\n",
    "       \"hybrid_pct\": pct(hybrid, with_city),\n",
    "       \"in_office_pct\": pct(in_office, with_city),\n",
    "       \"denominator\": with_city})"
   ]
  },
  {
   "cell_type": "code",
   "execution_count": 42,
   "metadata": {},
   "outputs": [
    {
     "name": "stdout",
     "output_type": "stream",
     "text": [
      "Biotech 110000\n"
     ]
    }
   ],
   "source": [
    "# Question 5: Which industry (besides tech) has the highest median salary?\n",
    "\n",
    "import statistics\n",
    "from collections import defaultdict\n",
    "\n",
    "by_ind = defaultdict(list)\n",
    "for r in rows:\n",
    "    ind = (r['industry'] or '').strip()\n",
    "    if not ind: continue\n",
    "    lower = ind.lower()\n",
    "    if 'computing or tech' in lower or lower in {'tech','technology'}: continue\n",
    "    by_ind[ind].append(r['salary'])\n",
    "\n",
    "candidates = [(ind, statistics.median(vals)) for ind, vals in by_ind.items() if len(vals) >= 30]\n",
    "top_ind, top_median = max(candidates, key=lambda kv: kv[1])\n",
    "print(top_ind, round(top_median))\n"
   ]
  },
  {
   "cell_type": "code",
   "execution_count": 39,
   "metadata": {},
   "outputs": [],
   "source": [
    "# Bonus Questions:\n",
    "# Question 6: What's the salary gap between men and women in similar roles?\n",
    "# Question 7: Do people with Master's degrees earn significantly more than those with Bachelor's degrees?\n",
    "# Question 8: Which company size (startup, medium, large) pays the most on average?"
   ]
  },
  {
   "cell_type": "markdown",
   "metadata": {},
   "source": [
    "## Final Summary\n",
    "\n",
    "**Summarize your findings here:**\n",
    "\n",
    "1. **Median salary for Software Engineers in US:** $140,000\n",
    "2. **Highest paying US state for tech:** California\n",
    "3. **Salary increase per year of experience:** $2359.58 per year\n",
    "4. **Remote vs office percentage:** 1.2% remote, 98.8% office\n",
    "5. **Highest paying non-tech industry:** Biotech\n",
    "\n",
    "**Key insights:**\n",
    "- AI is very useful but if you don't understand to code you don't know if the result is accurate.\n",
    "- You should be specific on what answer you want, because the AI will interept by itself.\n",
    "- Make sure to not use a big prompt that exceeds the tokens.\n",
    "\n",
    "**Challenges faced:**\n",
    "- The first Challenge I faced was running in errors and I showed cursor the error I was getting then it changed it.\n",
    "- I did not face any other challenges\n",
    "\n",
    "**What you learned about vibe coding:**\n",
    "- Have the AI prompt itself\n",
    "- Be specific with your prompt\n",
    "- You can feed the bugs to the AI\n"
   ]
  }
 ],
 "metadata": {
  "kernelspec": {
   "display_name": ".venv (3.13.5)",
   "language": "python",
   "name": "python3"
  },
  "language_info": {
   "codemirror_mode": {
    "name": "ipython",
    "version": 3
   },
   "file_extension": ".py",
   "mimetype": "text/x-python",
   "name": "python",
   "nbconvert_exporter": "python",
   "pygments_lexer": "ipython3",
   "version": "3.13.5"
  }
 },
 "nbformat": 4,
 "nbformat_minor": 2
}
