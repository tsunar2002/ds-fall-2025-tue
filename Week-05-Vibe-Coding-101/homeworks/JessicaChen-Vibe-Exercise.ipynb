{
 "cells": [
  {
   "cell_type": "markdown",
   "metadata": {},
   "source": [
    "# Vibe Coding: Real-World Data Cleaning Challenge\n",
    "\n",
    "## The Mission\n",
    "\n",
    "You're a Data Analyst at **TechSalary Insights**. Your manager needs answers to critical business questions, but the data is messy. Your job is to clean it and provide accurate insights.\n",
    "\n",
    "**The catch:** You must figure out how to clean the data yourself. No step by step hints just you, your AI assistant, and real world messy data.\n",
    "\n",
    "---\n",
    "\n",
    "## The Dataset: Ask A Manager Salary Survey 2021\n",
    "\n",
    "**Location:** `../Week-02-Pandas-Part-2-and-DS-Overview/data/Ask A Manager Salary Survey 2021 (Responses) - Form Responses 1.tsv`\n",
    "\n",
    "This is **real survey data** from Ask A Manager's 2021 salary survey with over 28,000 responses from working professionals. The data comes from this survey: https://www.askamanager.org/2021/04/how-much-money-do-you-make-4.html\n",
    "\n",
    "**Why this dataset is perfect for vibe coding:**\n",
    "- Real human responses (inconsistent formatting)\n",
    "- Multiple currencies and formats  \n",
    "- Messy job titles and location data\n",
    "- Missing and invalid entries\n",
    "- Requires business judgment calls\n",
    "\n",
    "---\n",
    "\n",
    "## Your Business Questions\n",
    "\n",
    "Answer these **exact questions** with clean data. There's only one correct answer for each:\n",
    "\n",
    "### Core Questions (Required):\n",
    "1. **What is the median salary for Software Engineers in the United States?** \n",
    "2. **Which US state has the highest average salary for tech workers?**\n",
    "3. **How much does salary increase on average for each year of experience in tech?**\n",
    "4. **Which industry (besides tech) has the highest median salary?**\n",
    "\n",
    "### Bonus Questions (If time permits):\n",
    "5. **What's the salary gap between men and women in tech roles?**\n",
    "6. **Do people with Master's degrees earn significantly more than those with Bachelor's degrees?**\n",
    "\n",
    "**Success Criteria:** Your final answers will be compared against the \"official\" results. Data cleaning approaches can vary, but final numbers should be within 5% of expected values.\n"
   ]
  },
  {
   "cell_type": "markdown",
   "metadata": {},
   "source": [
    "---\n",
    "# Your Work Starts Here\n",
    "\n",
    "## Step 0: Create Your Plan\n",
    "**Before writing any code, use Cursor to create your todo plan. Then paste it here:**\n",
    "\n",
    "## My Data Cleaning Plan\n",
    "\n",
    "- [ ] Confirm dataset path and load TSV with proper delimiter and encoding\n",
    "- [ ] Inspect schema: columns, dtypes, missingness, sample rows, unique value checks\n",
    "- [ ] Standardize column names to snake_case and trim whitespace\n",
    "- [ ] Clean salary fields: parse numeric, handle ranges, strip symbols, convert all to USD\n",
    "- [ ] Handle currencies: detect currency column/patterns, map FX rates, convert consistently\n",
    "- [ ] Filter invalid/irrelevant rows (e.g., missing salary, non-employed, internships if out of scope)\n",
    "- [ ] Remove exact duplicates and near-duplicates if any\n",
    "- [ ] Winsorize or cap extreme salary outliers with transparent rule; keep raw copy\n",
    "- [ ] Normalize job titles; create flag for tech roles and a `Software Engineer` canonical label\n",
    "- [ ] Parse/normalize location: extract country, US state codes; map free-text to standard\n",
    "- [ ] Parse years of experience; coerce text ranges to numeric (midpoint) and handle 0/NaN\n",
    "- [ ] Normalize education levels to ordered categories (HS, Assoc, BA/BS, MS/MA, PhD)\n",
    "- [ ] Standardize gender categories (male, female, nonbinary/other, prefer_not_say)\n",
    "- [ ] Create a clean, analysis-ready dataframe `df_clean` with documented transformations\n",
    "- [ ] Validate with spot checks: distribution of salaries, counts by country/state/role\n",
    "- [ ] Q1: Compute median salary for `Software Engineer` in United States\n",
    "- [ ] Q2: Compute average salary by US state for tech workers; identify max\n",
    "- [ ] Q3: Fit simple model/regression or groupwise slope: salary increase per YoE in tech\n",
    "- [ ] Q4: Identify highest median salary industry excluding tech\n",
    "- [ ] Bonus: Gender pay gap in tech roles (controlled/uncontrolled)\n",
    "- [ ] Bonus: Compare MS vs BA median salaries; significance test if feasible\n",
    "- [ ] Create clear tables/plots supporting each answer\n",
    "- [ ] Document assumptions and cleaning rules inline (markdown) next to code\n",
    "- [ ] Summarize final answers; ensure results within ±5% of expected benchmarks\n",
    "- [ ] Save cleaned dataset and key aggregates to CSV for reproducibility\n"
   ]
  },
  {
   "cell_type": "markdown",
   "metadata": {},
   "source": [
    "## Step 1: Data Loading and Exploration\n",
    "\n",
    "Start here! Load the dataset and get familiar with what you're working with.\n"
   ]
  },
  {
   "cell_type": "code",
   "execution_count": 9,
   "metadata": {},
   "outputs": [],
   "source": [
    "# Import necessary libraries\n",
    "import pandas as pd\n",
    "import numpy as np\n",
    "import matplotlib.pyplot as plt\n",
    "import seaborn as sns\n"
   ]
  },
  {
   "cell_type": "markdown",
   "metadata": {},
   "source": [
    "## Step 2: Data Cleaning\n"
   ]
  },
  {
   "cell_type": "code",
   "execution_count": 10,
   "metadata": {},
   "outputs": [],
   "source": [
    "\n",
    "df = pd.read_csv('/workspaces/ds-fall-2025-tue/Week-02-Pandas-Part-2-and-DS-Overview/data/Ask A Manager Salary Survey 2021 (Responses) - Form Responses 1.tsv', sep='\\t')\n",
    "df = df.drop_duplicates()\n",
    "\n",
    "df.rename(columns={\n",
    "    \"How old are you?\": \"age\",\n",
    "    \"What industry do you work in?\": \"industry\",\n",
    "    \"Job title\": \"title\",\n",
    "    \"If your job title needs additional context, please clarify here:\": \"title_context\",\n",
    "    \"What is your annual salary? (You'll indicate the currency in a later question. If you are part-time or hourly, please enter an annualized equivalent -- what you would earn if you worked the job 40 hours a week, 52 weeks a year.)\": \"salary\",\n",
    "    \"How much additional monetary compensation do you get, if any (for example, bonuses or overtime in an average year)? Please only include monetary compensation here, not the value of benefits.\": \"additional_comp\",\n",
    "    \"Please indicate the currency\": \"currency\",\n",
    "    \"If 'Other,' please indicate the currency here:\": \"other_currency\",\n",
    "    \"If your income needs additional context, please provide it here:\": \"salary_context\",\n",
    "    \"What country do you work in?\": \"country\",\n",
    "    \"If you're in the U.S., what state do you work in?\": \"state\",\n",
    "    \"What city do you work in?\": \"city\",\n",
    "    \"How many years of professional work experience do you have overall?\": \"total_yoe\",\n",
    "    \"How many years of professional work experience do you have in your field?\": \"field_yoe\",\n",
    "    \"What is your highest level of education completed?\": \"education\",\n",
    "    \"What is your gender?\": \"gender\",\n",
    "    \"What is your race? (Choose all that apply.)\": \"race\"\n",
    "}, inplace=True)\n",
    "\n",
    "df[\"country\"] = df[\"country\"].str.strip().str.title()\n",
    "df['country'] = df['country'].replace({\n",
    "    'United States of America': 'US',\n",
    "    'United States': 'US',\n",
    "    'U.S.': 'US',\n",
    "    'USA': 'US',\n",
    "    'U.S.A.': 'US'\n",
    "})\n",
    "\n",
    "df['title'] = df['title'].replace({\n",
    "    'Software engineer': 'Software Engineer',\n",
    "    'Senior Software Engineer' : 'Software Engineer',\n",
    "    'Software Engineer III (VP)' : 'Software Engineer',\n",
    "    'software engineer': 'Software Engineer',\n",
    "})\n",
    "\n",
    "df[\"salary\"] = pd.to_numeric(df[\"salary\"], errors=\"coerce\")\n",
    "df = df.dropna(subset=[\"salary\", \"title\", \"industry\", \"country\", \"city\"])\n",
    "\n",
    "# filtered = df[df['industry'] == 'Computing or Tech']\n",
    "# filtered['title'].value_counts()\n"
   ]
  },
  {
   "cell_type": "markdown",
   "metadata": {},
   "source": [
    "## Step 3: Business Questions Analysis\n",
    "\n",
    "Now answer those important business questions!\n"
   ]
  },
  {
   "cell_type": "code",
   "execution_count": 11,
   "metadata": {},
   "outputs": [
    {
     "name": "stdout",
     "output_type": "stream",
     "text": [
      "135200.0\n"
     ]
    }
   ],
   "source": [
    "# Question 1: What is the median salary for Software Engineers in the United States?\n",
    "filtered = df[\n",
    "    (df['title'] == 'Software Engineer') &\n",
    "    (df['country'] == 'US')\n",
    "]\n",
    "\n",
    "median_salary = filtered['salary'].median()\n",
    "\n",
    "print(median_salary)"
   ]
  },
  {
   "cell_type": "code",
   "execution_count": 12,
   "metadata": {},
   "outputs": [
    {
     "name": "stdout",
     "output_type": "stream",
     "text": [
      "state\n",
      "Connecticut    230000.0\n",
      "Name: salary, dtype: float64\n"
     ]
    }
   ],
   "source": [
    "# Question 2: Which US state has the highest average salary for tech workers?\n",
    "tech_us = df[\n",
    "    (df['industry'] == 'Computing or Tech') &\n",
    "    (df['country'] == 'US')\n",
    "]\n",
    "state_avg_salary = tech_us.groupby(\"state\")[\"salary\"].mean().sort_values(ascending=False)\n",
    "\n",
    "top_state = state_avg_salary.head(1)\n",
    "print(top_state)"
   ]
  },
  {
   "cell_type": "code",
   "execution_count": 23,
   "metadata": {},
   "outputs": [
    {
     "name": "stdout",
     "output_type": "stream",
     "text": [
      "6131.75\n"
     ]
    }
   ],
   "source": [
    "# Question 3: How much does salary increase on average for each year of experience in tech?\n",
    "\n",
    "tech = df[df[\"industry\"] == 'Computing or Tech']\n",
    "\n",
    "average_yoe_salary = tech.groupby('field_yoe')['salary'].mean()\n",
    "\n",
    "salary_diffs = average_yoe_salary.diff()\n",
    "\n",
    "avg_increase_per_year = salary_diffs.mean().round(2)\n",
    "print(avg_increase_per_year)"
   ]
  },
  {
   "cell_type": "code",
   "execution_count": 14,
   "metadata": {},
   "outputs": [
    {
     "name": "stdout",
     "output_type": "stream",
     "text": [
      "work_type\n",
      "In-office    98.922498\n",
      "Remote        1.077502\n",
      "Name: proportion, dtype: float64\n"
     ]
    }
   ],
   "source": [
    "\n",
    "# Question 4: What percentage of respondents work remotely vs. in-office?\n",
    "# Normalize text to avoid case issues\n",
    "df[\"city\"] = df[\"city\"].str.strip().str.lower()\n",
    "\n",
    "# Create a new column for work type\n",
    "df[\"work_type\"] = df[\"city\"].apply(lambda x: \"Remote\" if \"remote\" in str(x) else \"In-office\")\n",
    "\n",
    "# Count percentages\n",
    "work_counts = df[\"work_type\"].value_counts(normalize=True) * 100\n",
    "\n",
    "print(work_counts)\n"
   ]
  },
  {
   "cell_type": "code",
   "execution_count": 15,
   "metadata": {},
   "outputs": [
    {
     "name": "stdout",
     "output_type": "stream",
     "text": [
      "industry\n",
      "ESL Teacher    36000000.0\n",
      "Name: salary, dtype: float64\n"
     ]
    }
   ],
   "source": [
    "# Question 5: Which industry (besides tech) has the highest median salary?\n",
    "\n",
    "non_tech = df[~(df['industry'] == 'Computing or Tech')]\n",
    "\n",
    "industry_medians = non_tech.groupby(\"industry\")[\"salary\"].median().sort_values(ascending=False)\n",
    "\n",
    "highest_paying_industry = industry_medians.head(1)\n",
    "\n",
    "print(highest_paying_industry)"
   ]
  },
  {
   "cell_type": "code",
   "execution_count": 16,
   "metadata": {},
   "outputs": [],
   "source": [
    "# Bonus Questions:\n",
    "# Question 6: What's the salary gap between men and women in similar roles?\n",
    "# Question 7: Do people with Master's degrees earn significantly more than those with Bachelor's degrees?\n",
    "# Question 8: Which company size (startup, medium, large) pays the most on average?"
   ]
  },
  {
   "cell_type": "markdown",
   "metadata": {},
   "source": [
    "## Final Summary\n",
    "\n",
    "**Summarize your findings here:**\n",
    "\n",
    "1. **Median salary for Software Engineers in US:** $135200.00\n",
    "2. **Highest paying US state for tech:** Conneticut\n",
    "3. **Salary increase per year of experience:** $6131.75\n",
    "4. **Remote vs office percentage:** 1% remote, 99% office\n",
    "5. **Highest paying non-tech industry:** ESL Teacher\n",
    "\n",
    "**Key insights:**\n",
    "- Code quality depends on human direction\n",
    "- It's like coding with someone where you're actually having a conversation during collaboration\n",
    "\n",
    "**Challenges faced:**\n",
    "- Cursor didn't really have my entire dataset, so without context, the responses were sometimes off. I would just iterate and give snippets of the dataset. \n",
    "\n",
    "**What you learned about vibe coding:**\n",
    "- You have to be really specific about what you want outputted. \n",
    "- Sometimes, the output might not be something you want so you have to iterate. \n"
   ]
  }
 ],
 "metadata": {
  "kernelspec": {
   "display_name": "Python 3",
   "language": "python",
   "name": "python3"
  },
  "language_info": {
   "codemirror_mode": {
    "name": "ipython",
    "version": 3
   },
   "file_extension": ".py",
   "mimetype": "text/x-python",
   "name": "python",
   "nbconvert_exporter": "python",
   "pygments_lexer": "ipython3",
   "version": "3.12.1"
  }
 },
 "nbformat": 4,
 "nbformat_minor": 2
}
